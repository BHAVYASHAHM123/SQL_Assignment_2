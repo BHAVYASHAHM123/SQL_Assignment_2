{
  "nbformat": 4,
  "nbformat_minor": 0,
  "metadata": {
    "colab": {
      "name": "SQL_Assignment_2.ipynb",
      "provenance": []
    },
    "kernelspec": {
      "name": "python3",
      "display_name": "Python 3"
    },
    "language_info": {
      "name": "python"
    }
  },
  "cells": [
    {
      "cell_type": "markdown",
      "source": [
        "Q1) Write an SQL query to print the first three characters of  FIRST_NAME from Worker table.\n",
        "\n",
        "Ans)\n",
        "SELECT SUBSTRING(first_name,1,3) \n",
        "     FROM employees;"
      ],
      "metadata": {
        "id": "Df1b7mufXFc_"
      }
    },
    {
      "cell_type": "markdown",
      "source": [
        "Q2) Write an SQL query to find the position of the alphabet (‘a’) in the first name column ‘Amitabh’ from Worker table.\n",
        "\n",
        "Ans) \n",
        "Select INSTR(FIRST_NAME, BINARY'a') from Worker where FIRST_NAME = 'Amitabh';"
      ],
      "metadata": {
        "id": "oJH8lkd3XOPb"
      }
    },
    {
      "cell_type": "markdown",
      "source": [
        "Q3). Write an SQL query to print the name of employees having the highest salary in each department.\n",
        "\n",
        "Ans) \n",
        "\n",
        "SELECT DeptID, EmpName, Salary FROM EmpDetails WHERE (DeptID,Salary) IN (SELECT DeptID, MAX(Salary) FROM EmpDetails GROUP BY DeptID)"
      ],
      "metadata": {
        "id": "FnlSYPghXg-e"
      }
    },
    {
      "cell_type": "markdown",
      "source": [
        ""
      ],
      "metadata": {
        "id": "m-tzJX6JXg66"
      }
    }
  ]
}